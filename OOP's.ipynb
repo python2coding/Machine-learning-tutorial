{
  "nbformat": 4,
  "nbformat_minor": 0,
  "metadata": {
    "colab": {
      "name": "OOP's.ipynb",
      "provenance": [],
      "collapsed_sections": []
    },
    "kernelspec": {
      "name": "python3",
      "display_name": "Python 3"
    },
    "language_info": {
      "name": "python"
    }
  },
  "cells": [
    {
      "cell_type": "markdown",
      "metadata": {
        "id": "Do-3nk8SVbHC"
      },
      "source": [
        "**Python OOPs Concepts**\n",
        "\n",
        "An object-oriented paradigm is to design the program using classes and objects. The object is related to real-word entities such as book, house, pencil, etc. The oops concept focuses on writing the reusable code. It is a widespread technique to solve the problem by creating objects.\n",
        "\n",
        "\n",
        "*   Class\n",
        "*   Object\n",
        "\n",
        "*   Method\n",
        "*   Inheritance\n",
        "\n",
        "*   Polymorphism\n",
        "*   Abstraction\n",
        "\n",
        "*   Encapsulation\n",
        "\n",
        "\n",
        "\n",
        "\n",
        "\n",
        "\n"
      ]
    },
    {
      "cell_type": "markdown",
      "metadata": {
        "id": "0lr9VOcBWMrw"
      },
      "source": [
        "**Class**\n",
        "\n",
        "\n",
        "The class can be defined as a collection of objects. It is a logical entity that has some specific attributes and methods. For example: if you have an employee class, then it should contain an attribute and method, i.e. an email id, name, age, salary, etc.\n",
        "\n",
        "\n",
        "**Object**\n",
        "\n",
        "The object is an entity that has state and behavior. It may be any real-world object like the mouse, keyboard, chair, table, pen, etc.\n",
        "\n",
        "Everything in Python is an object, and almost everything has attributes and methods. All functions have a built-in attribute __doc__, which returns the docstring defined in the function source code."
      ]
    },
    {
      "cell_type": "code",
      "metadata": {
        "colab": {
          "base_uri": "https://localhost:8080/"
        },
        "id": "ZfokZC2BW0wa",
        "outputId": "4252e378-55a2-4ba7-9713-24993d01fb34"
      },
      "source": [
        "#class and objects\n",
        "\n",
        "class car:  \n",
        "    def __init__(self,modelname, year):  \n",
        "        self.m = modelname  \n",
        "        self.y = year  \n",
        "    def display(self):  \n",
        "        print(self.m,self.y)  \n",
        "  \n",
        "c1 = car(\"Toyota\", 2016)  \n",
        "c1.display()  "
      ],
      "execution_count": null,
      "outputs": [
        {
          "output_type": "stream",
          "text": [
            "Toyota 2016\n"
          ],
          "name": "stdout"
        }
      ]
    },
    {
      "cell_type": "markdown",
      "metadata": {
        "id": "NWBdtWDNpQbw"
      },
      "source": [
        "**Methods**\n",
        "\n",
        "Methods are functions defined inside the body of a class. They are used to define the behaviors of an object."
      ]
    },
    {
      "cell_type": "code",
      "metadata": {
        "colab": {
          "base_uri": "https://localhost:8080/"
        },
        "id": "tvqvIEvrpo2t",
        "outputId": "18b91569-57af-421c-d9ee-2bdb4c42b67d"
      },
      "source": [
        "class Parrot:\n",
        "    \n",
        "    # instance attributes\n",
        "    def __init__(self, name, age):\n",
        "        self.name = name\n",
        "        self.age = age\n",
        "    \n",
        "    # instance method\n",
        "    def sing(self, song):\n",
        "        return \"{} sings {}\".format(self.name, song)\n",
        "\n",
        "    def dance(self):\n",
        "        return \"{} is now dancing\".format(self.name)\n",
        "\n",
        "# instantiate the object\n",
        "blu = Parrot(\"Blu\", 10)\n",
        "\n",
        "# call our instance methods\n",
        "print(blu.sing(\"'Happy'\"))\n",
        "print(blu.dance())"
      ],
      "execution_count": null,
      "outputs": [
        {
          "output_type": "stream",
          "text": [
            "Blu sings 'Happy'\n",
            "Blu is now dancing\n"
          ],
          "name": "stdout"
        }
      ]
    },
    {
      "cell_type": "markdown",
      "metadata": {
        "id": "b0xaykknp_nc"
      },
      "source": [
        "**Inheritance**\n",
        "\n",
        "\n",
        "Inheritance is a way of creating a new class for using details of an existing class without modifying it. The newly formed class is a derived class (or child class). Similarly, the existing class is a base class (or parent class).\n",
        "\n",
        "\n",
        "\n",
        "1.  Single Inheitance \n",
        "2.   Multilevel Inheritance\n",
        "\n",
        "1.   Multiple Inheritance\n",
        "2.   Hierarchical Inheritance\n",
        "\n",
        "1.   Hybrid Inheritance\n",
        "\n",
        "\n",
        "\n",
        "\n",
        "\n"
      ]
    },
    {
      "cell_type": "markdown",
      "metadata": {
        "id": "l8FSxFw9vJGN"
      },
      "source": [
        "**Single Inheritance:** \n",
        "\n",
        "Single inheritance enables a derived class to inherit properties from a single parent class, thus enabling code reusability and the addition of new features to existing code."
      ]
    },
    {
      "cell_type": "markdown",
      "metadata": {
        "id": "_T1P1do0vNEd"
      },
      "source": [
        "![image.png](data:image/png;base64,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)"
      ]
    },
    {
      "cell_type": "code",
      "metadata": {
        "id": "wNxoBzaavvYo",
        "colab": {
          "base_uri": "https://localhost:8080/"
        },
        "outputId": "1231e9b7-3c0c-4230-da0e-6eb1ee542661"
      },
      "source": [
        "# Base class\n",
        "class Parent:\n",
        "\tdef func1(self):\n",
        "\t\tprint(\"parent class.\")\n",
        "\n",
        "# Derived class\n",
        "class Child(Parent):\n",
        "\tdef func2(self):\n",
        "\t\tprint(\"child class.\")\n",
        "\n",
        "# Driver's code\n",
        "object = Child()\n",
        "object.func1()\n",
        "object.func2()\n"
      ],
      "execution_count": null,
      "outputs": [
        {
          "output_type": "stream",
          "text": [
            "parent class.\n",
            "child class.\n"
          ],
          "name": "stdout"
        }
      ]
    },
    {
      "cell_type": "markdown",
      "metadata": {
        "id": "j5hPQ2wNwb9o"
      },
      "source": [
        "**Multilevel Inheritance**\n",
        "\n",
        "In multilevel inheritance, features of the base class and the derived class are further inherited into the new derived class. This is similar to a relationship representing a child and grandfather. "
      ]
    },
    {
      "cell_type": "markdown",
      "metadata": {
        "id": "IgrIYafXwcgD"
      },
      "source": [
        "![Multilevel-inheritance1.png](data:image/png;base64,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)"
      ]
    },
    {
      "cell_type": "code",
      "metadata": {
        "id": "f3wFXKZ7ws3I",
        "colab": {
          "base_uri": "https://localhost:8080/"
        },
        "outputId": "f749c128-9d46-4791-896d-ff72b62559fd"
      },
      "source": [
        "# Base class\n",
        "class Grandfather:\n",
        "\n",
        "\tdef __init__(self, grandfathername):\n",
        "\t\tself.grandfathername = grandfathername\n",
        "\n",
        "# Intermediate class\n",
        "class Father(Grandfather):\n",
        "\tdef __init__(self, fathername, grandfathername):\n",
        "\t\tself.fathername = fathername\n",
        "\n",
        "\t\t# invoking constructor of Grandfather class\n",
        "\t\tGrandfather.__init__(self, grandfathername)\n",
        "\n",
        "# Derived class\n",
        "class Son(Father):\n",
        "\tdef __init__(self,sonname, fathername, grandfathername):\n",
        "\t\tself.sonname = sonname\n",
        "\n",
        "\t\t# invoking constructor of Father class\n",
        "\t\tFather.__init__(self, fathername, grandfathername)\n",
        "\n",
        "\tdef print_name(self):\n",
        "\t\tprint('Grandfather name :', self.grandfathername)\n",
        "\t\tprint(\"Father name :\", self.fathername)\n",
        "\t\tprint(\"Son name :\", self.sonname)\n",
        "\n",
        "# Driver code\n",
        "s1 = Son('Prince', 'Rampal', 'Lal mani')\n",
        "print(s1.grandfathername)\n",
        "s1.print_name()\n"
      ],
      "execution_count": null,
      "outputs": [
        {
          "output_type": "stream",
          "text": [
            "Lal mani\n",
            "Grandfather name : Lal mani\n",
            "Father name : Rampal\n",
            "Son name : Prince\n"
          ],
          "name": "stdout"
        }
      ]
    },
    {
      "cell_type": "markdown",
      "metadata": {
        "id": "j_KOfc2Bv_Uk"
      },
      "source": [
        "**Multiple Inheritance:**\n",
        "\n",
        "When a class can be derived from more than one base class this type of inheritance is called multiple inheritance. In multiple inheritance, all the features of the base classes are inherited into the derived class."
      ]
    },
    {
      "cell_type": "markdown",
      "metadata": {
        "id": "HLhLGT8nwFeq"
      },
      "source": [
        "![image.png](data:image/png;base64,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)"
      ]
    },
    {
      "cell_type": "code",
      "metadata": {
        "id": "kKEcngJDwEIh",
        "colab": {
          "base_uri": "https://localhost:8080/"
        },
        "outputId": "a4972f37-59ef-484a-b47e-7c7b779c8b0f"
      },
      "source": [
        "# Base class1\n",
        "class Mother:\n",
        "\tmothername = \"\"\n",
        "\tdef mother(self):\n",
        "\t\tprint(self.mothername)\n",
        "\n",
        "# Base class2\n",
        "class Father:\n",
        "\tfathername = \"\"\n",
        "\tdef father(self):\n",
        "\t\tprint(self.fathername)\n",
        "\n",
        "# Derived class\n",
        "class Son(Mother, Father):\n",
        "\tdef parents(self):\n",
        "\t\tprint(\"Father :\", self.fathername)\n",
        "\t\tprint(\"Mother :\", self.mothername)\n",
        "\n",
        "# Driver's code\n",
        "s1 = Son()\n",
        "s1.fathername = \"RAM\"\n",
        "s1.mothername = \"SITA\"\n",
        "s1.parents()\n"
      ],
      "execution_count": null,
      "outputs": [
        {
          "output_type": "stream",
          "text": [
            "Father : RAM\n",
            "Mother : SITA\n"
          ],
          "name": "stdout"
        }
      ]
    },
    {
      "cell_type": "markdown",
      "metadata": {
        "id": "BTZISNeKw3vO"
      },
      "source": [
        "**Hierarchical Inheritance:**\n",
        "\n",
        "When more than one derived classes are created from a single base this type of inheritance is called hierarchical inheritance. In this program, we have a parent (base) class and two child (derived) classes."
      ]
    },
    {
      "cell_type": "markdown",
      "metadata": {
        "id": "vZ3uRaKTxHlE"
      },
      "source": [
        "![Hierarchical-inheritance1.png](data:image/png;base64,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)"
      ]
    },
    {
      "cell_type": "code",
      "metadata": {
        "id": "PPRgNAyHxP_L",
        "colab": {
          "base_uri": "https://localhost:8080/"
        },
        "outputId": "38ae175e-6659-4912-e24d-9ef44d27e596"
      },
      "source": [
        "# Base class\n",
        "class Parent:\n",
        "\tdef func1(self):\n",
        "\t\tprint(\"This function is in parent class.\")\n",
        "\n",
        "# Derived class1\n",
        "class Child1(Parent):\n",
        "\tdef func2(self):\n",
        "\t\tprint(\"This function is in child 1.\")\n",
        "\n",
        "# Derivied class2\n",
        "class Child2(Parent):\n",
        "\tdef func3(self):\n",
        "\t\tprint(\"This function is in child 2.\")\n",
        "\n",
        "# Driver's code\n",
        "object1 = Child1()\n",
        "object2 = Child2()\n",
        "object1.func1()\n",
        "object1.func2()\n",
        "object2.func1()\n",
        "object2.func3()\n"
      ],
      "execution_count": null,
      "outputs": [
        {
          "output_type": "stream",
          "text": [
            "This function is in parent class.\n",
            "This function is in child 1.\n",
            "This function is in parent class.\n",
            "This function is in child 2.\n"
          ],
          "name": "stdout"
        }
      ]
    },
    {
      "cell_type": "markdown",
      "metadata": {
        "id": "sxjZ0n-KxZO7"
      },
      "source": [
        "**Hybrid Inheritance:**\n",
        "\n",
        "Inheritance consisting of multiple types of inheritance is called hybrid inheritance."
      ]
    },
    {
      "cell_type": "markdown",
      "metadata": {
        "id": "uSxkkTbJxpGZ"
      },
      "source": [
        "![inheritance-sixth.png](data:image/png;base64,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)"
      ]
    },
    {
      "cell_type": "code",
      "metadata": {
        "id": "EueYY3zSxr8Y",
        "colab": {
          "base_uri": "https://localhost:8080/"
        },
        "outputId": "afb5ff94-6692-44ed-b82d-6d6b7d39168a"
      },
      "source": [
        "class School:\n",
        "\tdef func1(self):\n",
        "\t\tprint(\"This function is in school.\")\n",
        "\n",
        "class Student1(School):\n",
        "\tdef func2(self):\n",
        "\t\tprint(\"This function is in student 1. \")\n",
        "\n",
        "class Student2(School):\n",
        "\tdef func3(self):\n",
        "\t\tprint(\"This function is in student 2.\")\n",
        "\n",
        "class Student3(Student1, School):\n",
        "\tdef func4(self):\n",
        "\t\tprint(\"This function is in student 3.\")\n",
        "\n",
        "# Driver's code\n",
        "object = Student3()\n",
        "object.func1()\n",
        "object.func2()\n"
      ],
      "execution_count": null,
      "outputs": [
        {
          "output_type": "stream",
          "text": [
            "This function is in school.\n",
            "This function is in student 1. \n"
          ],
          "name": "stdout"
        }
      ]
    },
    {
      "cell_type": "markdown",
      "metadata": {
        "id": "XA5mfn7zqO6f"
      },
      "source": [
        "**Encapsulation**\n",
        "\n",
        "\n",
        "Using OOP in Python, we can restrict access to methods and variables. This prevents data from direct modification which is called encapsulation. In Python, we denote private attributes using underscore as the prefix i.e single _ or double __."
      ]
    },
    {
      "cell_type": "code",
      "metadata": {
        "colab": {
          "base_uri": "https://localhost:8080/"
        },
        "id": "o4ZLd6aaqg4b",
        "outputId": "1d60eba4-dfa8-444b-943a-14b4b19e97fc"
      },
      "source": [
        "class Computer:\n",
        "\n",
        "    def __init__(self):\n",
        "        self.__maxprice = 900\n",
        "\n",
        "    def sell(self):\n",
        "        print(\"Selling Price: {}\".format(self.__maxprice))\n",
        "\n",
        "    def setMaxPrice(self, price):\n",
        "        self.__maxprice = price\n",
        "\n",
        "c = Computer()\n",
        "c.sell()\n",
        "\n",
        "# change the price\n",
        "c.__maxprice = 1000\n",
        "c.sell()\n",
        "\n",
        "# using setter function\n",
        "c.setMaxPrice(1000)\n",
        "c.sell()"
      ],
      "execution_count": null,
      "outputs": [
        {
          "output_type": "stream",
          "text": [
            "Selling Price: 900\n",
            "Selling Price: 900\n",
            "Selling Price: 1000\n"
          ],
          "name": "stdout"
        }
      ]
    },
    {
      "cell_type": "markdown",
      "metadata": {
        "id": "d63vM8LLq3aI"
      },
      "source": [
        "**Polymorphism**\n",
        "\n",
        "\n",
        "Polymorphism is an ability (in OOP) to use a common interface for multiple forms (data types).\n",
        "\n",
        "Suppose, we need to color a shape, there are multiple shape options (rectangle, square, circle). However we could use the same method to color any shape. This concept is called Polymorphism."
      ]
    },
    {
      "cell_type": "code",
      "metadata": {
        "colab": {
          "base_uri": "https://localhost:8080/"
        },
        "id": "ZiaQGD7Tq6or",
        "outputId": "26c3b539-c40c-4179-d452-045f7fefdae8"
      },
      "source": [
        "class Parrot:\n",
        "\n",
        "    def fly(self):\n",
        "        print(\"Parrot can fly\")\n",
        "    \n",
        "    def swim(self):\n",
        "        print(\"Parrot can't swim\")\n",
        "\n",
        "class Penguin:\n",
        "\n",
        "    def fly(self):\n",
        "        print(\"Penguin can't fly\")\n",
        "    \n",
        "    def swim(self):\n",
        "        print(\"Penguin can swim\")\n",
        "\n",
        "# common interface\n",
        "def flying_test(bird):\n",
        "    bird.fly()\n",
        "\n",
        "#instantiate objects\n",
        "blu = Parrot()\n",
        "peggy = Penguin()\n",
        "\n",
        "# passing the object\n",
        "flying_test(blu)\n",
        "flying_test(peggy)"
      ],
      "execution_count": null,
      "outputs": [
        {
          "output_type": "stream",
          "text": [
            "Parrot can fly\n",
            "Penguin can't fly\n"
          ],
          "name": "stdout"
        }
      ]
    },
    {
      "cell_type": "markdown",
      "metadata": {
        "id": "l9yjpZetsyh7"
      },
      "source": [
        "**Abstraction**\n",
        "\n",
        "\n",
        "Abstraction is used to hide the internal functionality of the function from the users. The users only interact with the basic implementation of the function, but inner working is hidden. User is familiar with that \"what function does\" but they don't know \"how it does.\""
      ]
    },
    {
      "cell_type": "code",
      "metadata": {
        "colab": {
          "base_uri": "https://localhost:8080/"
        },
        "id": "FxZZ6g9ntNNH",
        "outputId": "cf8fbbef-ec1f-4b95-8547-7b822e941016"
      },
      "source": [
        "from abc import ABC, abstractmethod   \n",
        "class Car(ABC):   \n",
        "    def mileage(self):   \n",
        "        pass  \n",
        "  \n",
        "class Tesla(Car):   \n",
        "    def mileage(self):   \n",
        "        print(\"The mileage is 30kmph\")   \n",
        "class Suzuki(Car):   \n",
        "    def mileage(self):   \n",
        "        print(\"The mileage is 25kmph \")   \n",
        "class Duster(Car):   \n",
        "     def mileage(self):   \n",
        "          print(\"The mileage is 24kmph \")   \n",
        "  \n",
        "class Renault(Car):   \n",
        "    def mileage(self):   \n",
        "            print(\"The mileage is 27kmph \")   \n",
        "          \n",
        "# Driver code   \n",
        "t= Tesla ()   \n",
        "t.mileage()   \n",
        "  \n",
        "r = Renault()   \n",
        "r.mileage()   \n",
        "  \n",
        "s = Suzuki()   \n",
        "s.mileage()   \n",
        "d = Duster()   \n",
        "d.mileage() "
      ],
      "execution_count": null,
      "outputs": [
        {
          "output_type": "stream",
          "text": [
            "The mileage is 30kmph\n",
            "The mileage is 27kmph \n",
            "The mileage is 25kmph \n",
            "The mileage is 24kmph \n"
          ],
          "name": "stdout"
        }
      ]
    }
  ]
}