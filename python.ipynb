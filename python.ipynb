{
  "nbformat": 4,
  "nbformat_minor": 0,
  "metadata": {
    "colab": {
      "name": "python.ipynb",
      "provenance": []
    },
    "kernelspec": {
      "name": "python3",
      "display_name": "Python 3"
    },
    "language_info": {
      "name": "python"
    }
  },
  "cells": [
    {
      "cell_type": "markdown",
      "metadata": {
        "id": "5c0MNB_IYY8F"
      },
      "source": [
        "**PYTHON TUTORIAL**\n",
        "\n"
      ]
    },
    {
      "cell_type": "markdown",
      "metadata": {
        "id": "5ij0m6_iYoak"
      },
      "source": [
        "*What is Python*\n",
        "\n",
        "Python is an easy to learn, powerful programming language. It has efficient high-level data structures and a simple but effective approach to object-oriented programming. Python’s elegant syntax and dynamic typing, together with its interpreted nature, make it an ideal language for scripting and rapid application development in many areas on most platforms."
      ]
    },
    {
      "cell_type": "code",
      "metadata": {
        "colab": {
          "base_uri": "https://localhost:8080/"
        },
        "id": "vWn62rKtZFYb",
        "outputId": "7a299052-51a7-484b-83b2-0d5bb45e6bcd"
      },
      "source": [
        "#Python simple program\n",
        "\n",
        "print(\"Hello World\")"
      ],
      "execution_count": null,
      "outputs": [
        {
          "output_type": "stream",
          "text": [
            "Hello World\n"
          ],
          "name": "stdout"
        }
      ]
    },
    {
      "cell_type": "markdown",
      "metadata": {
        "id": "Z5MslYcKZg_5"
      },
      "source": [
        "**Taking Input from the User and Print the data**"
      ]
    },
    {
      "cell_type": "code",
      "metadata": {
        "colab": {
          "base_uri": "https://localhost:8080/"
        },
        "id": "31mtMKoyZmkh",
        "outputId": "44a58b1a-a1b5-4617-a708-3cbc6a1480f2"
      },
      "source": [
        "name = input(\"Enter your name:\")  \n",
        "print(\"Your name is: \", name)  "
      ],
      "execution_count": null,
      "outputs": [
        {
          "output_type": "stream",
          "text": [
            "Enter your name:AK\n",
            "Your name is:  AK\n"
          ],
          "name": "stdout"
        }
      ]
    },
    {
      "cell_type": "markdown",
      "metadata": {
        "id": "fF3IzbB7bDmp"
      },
      "source": [
        "**Python Data Types**"
      ]
    },
    {
      "cell_type": "code",
      "metadata": {
        "colab": {
          "base_uri": "https://localhost:8080/"
        },
        "id": "tkOHlomgbGY2",
        "outputId": "45ad7795-ec0c-42f4-bf51-21d3ea5845cd"
      },
      "source": [
        "a=1  \n",
        "b=\"Hi\"  \n",
        "c=10.5 \n",
        "d=1+3j  \n",
        "print(type(a))  \n",
        "print(type(b))  \n",
        "print(type(c))  \n",
        "print(type(d)) \n",
        "print(type(True))  "
      ],
      "execution_count": null,
      "outputs": [
        {
          "output_type": "stream",
          "text": [
            "<class 'int'>\n",
            "<class 'str'>\n",
            "<class 'float'>\n",
            "<class 'complex'>\n",
            "<class 'bool'>\n"
          ],
          "name": "stdout"
        }
      ]
    },
    {
      "cell_type": "code",
      "metadata": {
        "colab": {
          "base_uri": "https://localhost:8080/"
        },
        "id": "acPlLr058W5K",
        "outputId": "65f9e20e-915e-4474-ffaf-a7e3da0c8c88"
      },
      "source": [
        "a1=int(input(\"Enter the integer value\"))\n",
        "a2=float(input(\"Enter the float value\"))\n",
        "a3=input(\"Enter the string value\")\n",
        "print(a1)\n",
        "print(a2)\n",
        "print(a3)"
      ],
      "execution_count": null,
      "outputs": [
        {
          "output_type": "stream",
          "text": [
            "Enter the integer value10\n",
            "Enter the float value20.4\n",
            "Enter the string valuehi\n",
            "10\n",
            "20.4\n",
            "hi\n"
          ],
          "name": "stdout"
        }
      ]
    },
    {
      "cell_type": "markdown",
      "metadata": {
        "id": "kjlQnyiCcTkp"
      },
      "source": [
        "**Python Conditional statements**"
      ]
    },
    {
      "cell_type": "code",
      "metadata": {
        "colab": {
          "base_uri": "https://localhost:8080/"
        },
        "id": "W4lSOjcGcaB9",
        "outputId": "76bde892-0bb1-4396-f709-086af7e14f83"
      },
      "source": [
        "n=int(input(\"enter the number?\"))  \n",
        "if n%2 == 0:  \n",
        "    print(\"Number is even\")\n",
        "else:\n",
        "  print(\"Number is odd\")"
      ],
      "execution_count": null,
      "outputs": [
        {
          "output_type": "stream",
          "text": [
            "enter the number?5\n",
            "Number is odd\n"
          ],
          "name": "stdout"
        }
      ]
    },
    {
      "cell_type": "code",
      "metadata": {
        "colab": {
          "base_uri": "https://localhost:8080/"
        },
        "id": "oxQ1qUIsclAX",
        "outputId": "013b3a16-f5ac-4ffd-e639-e138833d553b"
      },
      "source": [
        "marks = int(input(\"Enter the marks? \"))  \n",
        "if marks > 85 and marks <= 100:  \n",
        "   print(\"Congrats ! you scored grade A ...\")  \n",
        "elif marks > 60 and marks <= 85:  \n",
        "   print(\"You scored grade B + ...\")  \n",
        "elif marks > 40 and marks <= 60:  \n",
        "   print(\"You scored grade B ...\")  \n",
        "elif (marks > 30 and marks <= 40):  \n",
        "   print(\"You scored grade C ...\")  \n",
        "else:  \n",
        "   print(\"Sorry you are fail ?\")  "
      ],
      "execution_count": null,
      "outputs": [
        {
          "output_type": "stream",
          "text": [
            "Enter the marks? 60\n",
            "You scored grade B ...\n"
          ],
          "name": "stdout"
        }
      ]
    },
    {
      "cell_type": "markdown",
      "metadata": {
        "id": "2OeL_3DRdOtY"
      },
      "source": [
        "**Python Loops**\n",
        "\n",
        "\n",
        "1.   for loop\n",
        "2.   while loop\n",
        "3.   do-while loop\n",
        "\n"
      ]
    },
    {
      "cell_type": "markdown",
      "metadata": {
        "id": "4Qu05TSLgMHo"
      },
      "source": [
        "**for loop**"
      ]
    },
    {
      "cell_type": "code",
      "metadata": {
        "colab": {
          "base_uri": "https://localhost:8080/"
        },
        "id": "L6zWMEz9daGN",
        "outputId": "5f48e108-f858-4cac-eb7d-d5ed193f85b0"
      },
      "source": [
        "for i in range(1,10):  \n",
        "    print(i)  "
      ],
      "execution_count": null,
      "outputs": [
        {
          "output_type": "stream",
          "text": [
            "1\n",
            "2\n",
            "3\n",
            "4\n",
            "5\n",
            "6\n",
            "7\n",
            "8\n",
            "9\n"
          ],
          "name": "stdout"
        }
      ]
    },
    {
      "cell_type": "code",
      "metadata": {
        "colab": {
          "base_uri": "https://localhost:8080/"
        },
        "id": "Ff02qm5hd124",
        "outputId": "057702b9-6f58-42bf-febf-d4a57bf07733"
      },
      "source": [
        "for i in range(1,10,2):  \n",
        "    print(i)  "
      ],
      "execution_count": null,
      "outputs": [
        {
          "output_type": "stream",
          "text": [
            "1\n",
            "3\n",
            "5\n",
            "7\n",
            "9\n"
          ],
          "name": "stdout"
        }
      ]
    },
    {
      "cell_type": "code",
      "metadata": {
        "colab": {
          "base_uri": "https://localhost:8080/"
        },
        "id": "zQo5D-PJeEMQ",
        "outputId": "7eb0e58b-86a9-4ba6-dad8-0f85451a0ab5"
      },
      "source": [
        "list = [1,2,3,4,5,6,7,8,9,10]  \n",
        "for i in list:\n",
        "  print(i)"
      ],
      "execution_count": null,
      "outputs": [
        {
          "output_type": "stream",
          "text": [
            "1\n",
            "2\n",
            "3\n",
            "4\n",
            "5\n",
            "6\n",
            "7\n",
            "8\n",
            "9\n",
            "10\n"
          ],
          "name": "stdout"
        }
      ]
    },
    {
      "cell_type": "markdown",
      "metadata": {
        "id": "ej8by43zgRNq"
      },
      "source": [
        "**while loop**"
      ]
    },
    {
      "cell_type": "code",
      "metadata": {
        "colab": {
          "base_uri": "https://localhost:8080/"
        },
        "id": "dAbWv1IJgTpo",
        "outputId": "e1f4959e-4e51-47d3-dbf0-af86089f7350"
      },
      "source": [
        "i=1   \n",
        "while i<=10:\n",
        "  print(i)   \n",
        "  i=i+1   "
      ],
      "execution_count": null,
      "outputs": [
        {
          "output_type": "stream",
          "text": [
            "1\n",
            "2\n",
            "3\n",
            "4\n",
            "5\n",
            "6\n",
            "7\n",
            "8\n",
            "9\n",
            "10\n"
          ],
          "name": "stdout"
        }
      ]
    },
    {
      "cell_type": "markdown",
      "metadata": {
        "id": "30WkJvmaw06F"
      },
      "source": [
        "**STRINGS**"
      ]
    },
    {
      "cell_type": "code",
      "metadata": {
        "colab": {
          "base_uri": "https://localhost:8080/"
        },
        "id": "71xeBYIaw4VL",
        "outputId": "30150015-0059-4064-8650-ad7257ae49c1"
      },
      "source": [
        "a=input(\"Enter your string: \")\n",
        "b=input(\"Enter your another string:\")\n",
        "print(a)\n",
        "#length of the string\n",
        "print(len(a))\n",
        "#convert string to lower case\n",
        "print(a.lower())\n",
        "#convert string to upper case\n",
        "print(a.upper())\n",
        "#string indexing\n",
        "print(a[:])\n",
        "print(a[1:5])\n",
        "print(a[::-1])\n",
        "#string concatenation\n",
        "print(a+b)"
      ],
      "execution_count": null,
      "outputs": [
        {
          "output_type": "stream",
          "text": [
            "Enter your string: Python\n",
            "Enter your another string:Code\n",
            "Python\n",
            "6\n",
            "python\n",
            "PYTHON\n",
            "Python\n",
            "ytho\n",
            "nohtyP\n",
            "PythonCode\n"
          ],
          "name": "stdout"
        }
      ]
    },
    {
      "cell_type": "markdown",
      "metadata": {
        "id": "Kk6gAFYJy78J"
      },
      "source": [
        "**LIST**"
      ]
    },
    {
      "cell_type": "code",
      "metadata": {
        "colab": {
          "base_uri": "https://localhost:8080/"
        },
        "id": "2lhg0pp3y-9x",
        "outputId": "e9ed892d-f89d-4fcf-996a-5ea7d942593e"
      },
      "source": [
        "L=[1,2,3,'A','B']\n",
        "#print a type\n",
        "print(type(L))\n",
        "#print a List\n",
        "print(L)\n",
        "#List indexing \n",
        "print(L[0:3])\n",
        "#reverse a list\n",
        "print(L[::-1])\n",
        "#Updating list value\n",
        "L[2]='C'\n",
        "print(L)\n",
        "#list indexing with stepsize\n",
        "print(L[1:5:2])\n",
        "#Iterating list\n",
        "for i in L:\n",
        "  print(i)\n",
        "#Adding element to list\n",
        "L.append(6)\n",
        "print(L)\n",
        "L1=[7,8,9]\n",
        "L.append(L1)\n",
        "print(L)\n",
        "#extend metho in list\n",
        "L2=['X','Y','z']\n",
        "L.extend(L2)\n",
        "print(L)"
      ],
      "execution_count": null,
      "outputs": [
        {
          "output_type": "stream",
          "text": [
            "<class 'list'>\n",
            "[1, 2, 3, 'A', 'B']\n",
            "[1, 2, 3]\n",
            "['B', 'A', 3, 2, 1]\n",
            "[1, 2, 'C', 'A', 'B']\n",
            "[2, 'A']\n",
            "1\n",
            "2\n",
            "C\n",
            "A\n",
            "B\n",
            "[1, 2, 'C', 'A', 'B', 6]\n",
            "[1, 2, 'C', 'A', 'B', 6, [7, 8, 9]]\n",
            "[1, 2, 'C', 'A', 'B', 6, [7, 8, 9], 'X', 'Y', 'z']\n"
          ],
          "name": "stdout"
        }
      ]
    },
    {
      "cell_type": "markdown",
      "metadata": {
        "id": "-6aB_GRb_gyS"
      },
      "source": [
        "**TUPLES**"
      ]
    },
    {
      "cell_type": "code",
      "metadata": {
        "colab": {
          "base_uri": "https://localhost:8080/"
        },
        "id": "pTi3s0gk_lo2",
        "outputId": "d75e3bfd-f478-4995-a4ae-80f08c2d9d90"
      },
      "source": [
        "tuple1 = (10, 20, 30, 40, 50, 60)    \n",
        "print(tuple1)    \n",
        "count = 0    \n",
        "for i in tuple1:    \n",
        "    print(count, i)   \n",
        "    count = count+1  "
      ],
      "execution_count": null,
      "outputs": [
        {
          "output_type": "stream",
          "text": [
            "(10, 20, 30, 40, 50, 60)\n",
            "0 10\n",
            "1 20\n",
            "2 30\n",
            "3 40\n",
            "4 50\n",
            "5 60\n"
          ],
          "name": "stdout"
        }
      ]
    },
    {
      "cell_type": "code",
      "metadata": {
        "colab": {
          "base_uri": "https://localhost:8080/"
        },
        "id": "Zo7tI8GNAlAd",
        "outputId": "09f4234e-a910-42c0-e339-488660eeec8b"
      },
      "source": [
        "tup = (1,2,3,4,5,6,7)  \n",
        "print(tup[0])  \n",
        "print(tup[1])  \n",
        "print(tup[2])  "
      ],
      "execution_count": null,
      "outputs": [
        {
          "output_type": "stream",
          "text": [
            "1\n",
            "2\n",
            "3\n"
          ],
          "name": "stdout"
        }
      ]
    },
    {
      "cell_type": "code",
      "metadata": {
        "colab": {
          "base_uri": "https://localhost:8080/"
        },
        "id": "T_zsoMdvAqsx",
        "outputId": "1d3c3bee-6d14-44a2-92d3-b198b3173a65"
      },
      "source": [
        "tuple = (1,2,3,4,5,6,7)  \n",
        "#element 1 to end  \n",
        "print(tuple[1:])  \n",
        "#element 0 to 3 element   \n",
        "print(tuple[:4])  \n",
        "#element 1 to 4 element  \n",
        "print(tuple[1:5])   \n",
        "# element 0 to 6 and take step of 2  \n",
        "print(tuple[0:6:2])\n",
        "#reverse a tuple\n",
        "print(tuple[::-1])"
      ],
      "execution_count": null,
      "outputs": [
        {
          "output_type": "stream",
          "text": [
            "(2, 3, 4, 5, 6, 7)\n",
            "(1, 2, 3, 4)\n",
            "(2, 3, 4, 5)\n",
            "(1, 3, 5)\n",
            "(7, 6, 5, 4, 3, 2, 1)\n"
          ],
          "name": "stdout"
        }
      ]
    },
    {
      "cell_type": "markdown",
      "metadata": {
        "id": "kF0n2eyyBXdA"
      },
      "source": [
        "**DICTIONARY**\n",
        "\n",
        "1.   Keys must be a single element\n",
        "2.   Value can be any type such as list, tuple, integer, etc.\n",
        "\n"
      ]
    },
    {
      "cell_type": "code",
      "metadata": {
        "colab": {
          "base_uri": "https://localhost:8080/"
        },
        "id": "zSL9BRKLBbqN",
        "outputId": "d95f333b-a81d-4d2f-c348-43544602a6e3"
      },
      "source": [
        "Employee = {\"Name\": \"Arul\", \"Age\": 25, \"salary\":25000,\"Company\":\"TCS\"}    \n",
        "print(type(Employee))    \n",
        "print(\"Employee data .... \")    \n",
        "print(Employee) "
      ],
      "execution_count": null,
      "outputs": [
        {
          "output_type": "stream",
          "text": [
            "<class 'dict'>\n",
            "Employee data .... \n",
            "{'Name': 'Arul', 'Age': 25, 'salary': 25000, 'Company': 'TCS'}\n"
          ],
          "name": "stdout"
        }
      ]
    },
    {
      "cell_type": "code",
      "metadata": {
        "colab": {
          "base_uri": "https://localhost:8080/"
        },
        "id": "JEVquBmLCAqw",
        "outputId": "931ff260-3d25-40cf-941e-f1239492f542"
      },
      "source": [
        "# Creating a Dictionary   \n",
        "# with dict() method   \n",
        "Dict = dict({1: 'A', 2: 'B', 3:'C'})   \n",
        "print(\"\\nCreate Dictionary by using  dict(): \")   \n",
        "print(Dict)\n",
        "#pop method\n",
        "a=Dict.pop(3)\n",
        "print(a)\n",
        "print(Dict)"
      ],
      "execution_count": null,
      "outputs": [
        {
          "output_type": "stream",
          "text": [
            "\n",
            "Create Dictionary by using  dict(): \n",
            "{1: 'A', 2: 'B', 3: 'C'}\n",
            "C\n",
            "{1: 'A', 2: 'B'}\n"
          ],
          "name": "stdout"
        }
      ]
    },
    {
      "cell_type": "code",
      "metadata": {
        "colab": {
          "base_uri": "https://localhost:8080/"
        },
        "id": "IHplrda8COcQ",
        "outputId": "f1a00fde-d32f-4285-e5ec-77fbdab6c649"
      },
      "source": [
        "Employee = {\"Name\": \"John\", \"Age\": 29, \"salary\":25000,\"Company\":\"GOOGLE\"}  \n",
        "print(type(Employee))  \n",
        "print(\"printing Employee data .... \")  \n",
        "print(\"Name : %s\" %Employee[\"Name\"])  \n",
        "print(\"Age : %d\" %Employee[\"Age\"])  \n",
        "print(\"Salary : %d\" %Employee[\"salary\"])  \n",
        "print(\"Company : %s\" %Employee[\"Company\"])  "
      ],
      "execution_count": null,
      "outputs": [
        {
          "output_type": "stream",
          "text": [
            "<class 'dict'>\n",
            "printing Employee data .... \n",
            "Name : John\n",
            "Age : 29\n",
            "Salary : 25000\n",
            "Company : GOOGLE\n"
          ],
          "name": "stdout"
        }
      ]
    },
    {
      "cell_type": "code",
      "metadata": {
        "colab": {
          "base_uri": "https://localhost:8080/"
        },
        "id": "GGsoUpc8CmFl",
        "outputId": "918779e7-1e07-4ec1-85a7-9fa6f6ca746b"
      },
      "source": [
        "Employee = {\"Name\": \"John\", \"Age\": 29, \"salary\":25000,\"Company\":\"GOOGLE\"}    \n",
        "print(type(Employee))    \n",
        "print(\"printing Employee data .... \")    \n",
        "print(Employee)    \n",
        "print(\"Enter the details of the new employee....\");    \n",
        "Employee[\"Name\"] = input(\"Name: \");    \n",
        "Employee[\"Age\"] = int(input(\"Age: \"));    \n",
        "Employee[\"salary\"] = int(input(\"Salary: \"));    \n",
        "Employee[\"Company\"] = input(\"Company:\");    \n",
        "print(\"printing the new data\");    \n",
        "print(Employee)    "
      ],
      "execution_count": null,
      "outputs": [
        {
          "output_type": "stream",
          "text": [
            "<class 'dict'>\n",
            "printing Employee data .... \n",
            "{'Name': 'John', 'Age': 29, 'salary': 25000, 'Company': 'GOOGLE'}\n",
            "Enter the details of the new employee....\n",
            "Name: AK\n",
            "Age: 20\n",
            "Salary: 30000\n",
            "Company:TCS\n",
            "printing the new data\n",
            "{'Name': 'AK', 'Age': 20, 'salary': 30000, 'Company': 'TCS'}\n"
          ],
          "name": "stdout"
        }
      ]
    },
    {
      "cell_type": "code",
      "metadata": {
        "colab": {
          "base_uri": "https://localhost:8080/"
        },
        "id": "qv_czNkJD4m1",
        "outputId": "79cc4f91-7dea-41c2-dc59-1c5dbd0ea242"
      },
      "source": [
        "Employee = {\"Name\": \"John\", \"Age\": 29, \"salary\":25000,\"Company\":\"GOOGLE\"}    \n",
        "for x in Employee.values():    \n",
        "    print(x)  "
      ],
      "execution_count": null,
      "outputs": [
        {
          "output_type": "stream",
          "text": [
            "John\n",
            "29\n",
            "25000\n",
            "GOOGLE\n"
          ],
          "name": "stdout"
        }
      ]
    },
    {
      "cell_type": "code",
      "metadata": {
        "colab": {
          "base_uri": "https://localhost:8080/"
        },
        "id": "o6EyQ5tkD65g",
        "outputId": "10337a08-b096-4c27-cfe3-777f0d1ebd46"
      },
      "source": [
        "Employee={\"Name\":\"John\",\"Age\":29,\"Salary\":25000,\"Company\":\"GOOGLE\",\"Name\":\"John\"}    \n",
        "for x,y in Employee.items():    \n",
        "    print(x,y)"
      ],
      "execution_count": null,
      "outputs": [
        {
          "output_type": "stream",
          "text": [
            "Name John\n",
            "Age 29\n",
            "Salary 25000\n",
            "Company GOOGLE\n"
          ],
          "name": "stdout"
        }
      ]
    }
  ]
}