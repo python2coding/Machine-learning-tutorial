{
  "nbformat": 4,
  "nbformat_minor": 0,
  "metadata": {
    "colab": {
      "name": "NumPy.ipynb",
      "provenance": [],
      "collapsed_sections": []
    },
    "kernelspec": {
      "name": "python3",
      "display_name": "Python 3"
    }
  },
  "cells": [
    {
      "cell_type": "markdown",
      "metadata": {
        "id": "wVAbjCb43s03"
      },
      "source": [
        "#NumPy Tutorial"
      ]
    },
    {
      "cell_type": "markdown",
      "metadata": {
        "id": "bMsIU9GpDY8O"
      },
      "source": [
        "NumPy is a general-purpose array-processing package. It provides a high-performance multidimensional array object, and tools for working with these arrays. It is the fundamental package for scientific computing with Python"
      ]
    },
    {
      "cell_type": "markdown",
      "metadata": {
        "id": "h97IB81GDdwG"
      },
      "source": [
        "**What is an array**\n",
        "\n",
        "An array is a data structure that stores values of same data type. In Python, this is the main difference between arrays and lists. While python lists can contain values corresponding to different data types, arrays in python can only contain values corresponding to same data type"
      ]
    },
    {
      "cell_type": "code",
      "metadata": {
        "colab": {
          "base_uri": "https://localhost:8080/"
        },
        "id": "CPMp_0uO6_Ai",
        "outputId": "43a2196d-0e98-4a1b-91cd-358d82011b11"
      },
      "source": [
        "!pip install numpy"
      ],
      "execution_count": null,
      "outputs": [
        {
          "output_type": "stream",
          "text": [
            "Requirement already satisfied: numpy in /usr/local/lib/python3.7/dist-packages (1.19.5)\n"
          ],
          "name": "stdout"
        }
      ]
    },
    {
      "cell_type": "code",
      "metadata": {
        "colab": {
          "base_uri": "https://localhost:8080/"
        },
        "id": "q1pJg9_n32lH",
        "outputId": "ee24a7e7-4d66-409a-a916-0fd758a4240b"
      },
      "source": [
        "import numpy as np\n",
        "my=np.arange(0,10)\n",
        "print(my)"
      ],
      "execution_count": null,
      "outputs": [
        {
          "output_type": "stream",
          "text": [
            "[0 1 2 3 4 5 6 7 8 9]\n"
          ],
          "name": "stdout"
        }
      ]
    },
    {
      "cell_type": "code",
      "metadata": {
        "colab": {
          "base_uri": "https://localhost:8080/"
        },
        "id": "wp8S8JalEB_-",
        "outputId": "5511b2b6-7639-4627-93e0-5c0a68b32f96"
      },
      "source": [
        "my_lst=[1,2,3,4,5]\n",
        "print(type(my_lst))\n",
        "arr=np.array(my_lst)\n",
        "print(type(arr))"
      ],
      "execution_count": null,
      "outputs": [
        {
          "output_type": "stream",
          "text": [
            "<class 'list'>\n",
            "<class 'numpy.ndarray'>\n"
          ],
          "name": "stdout"
        }
      ]
    },
    {
      "cell_type": "code",
      "metadata": {
        "colab": {
          "base_uri": "https://localhost:8080/"
        },
        "id": "TuVlOwc3E8in",
        "outputId": "3b540ec0-5238-4571-b175-898ae4bd04c6"
      },
      "source": [
        "## Multinested array\n",
        "my_lst1=[1,2,3,4,5]\n",
        "my_lst2=[2,3,4,5,6]\n",
        "my_lst3=[9,7,6,8,9]\n",
        "\n",
        "arr=np.array([my_lst1,my_lst2,my_lst3])\n",
        "print(arr.shape)\n",
        "arr"
      ],
      "execution_count": null,
      "outputs": [
        {
          "output_type": "stream",
          "text": [
            "(3, 5)\n"
          ],
          "name": "stdout"
        },
        {
          "output_type": "execute_result",
          "data": {
            "text/plain": [
              "array([[1, 2, 3, 4, 5],\n",
              "       [2, 3, 4, 5, 6],\n",
              "       [9, 7, 6, 8, 9]])"
            ]
          },
          "metadata": {
            "tags": []
          },
          "execution_count": 7
        }
      ]
    },
    {
      "cell_type": "markdown",
      "metadata": {
        "id": "tDV1rBS9IbpA"
      },
      "source": [
        "**Indexing**"
      ]
    },
    {
      "cell_type": "code",
      "metadata": {
        "colab": {
          "base_uri": "https://localhost:8080/"
        },
        "id": "5yueMn7KIc6Z",
        "outputId": "72297718-4212-4c99-d77c-07f54cb329d9"
      },
      "source": [
        "arr"
      ],
      "execution_count": null,
      "outputs": [
        {
          "output_type": "execute_result",
          "data": {
            "text/plain": [
              "array([[1, 2, 3, 4, 5],\n",
              "       [2, 3, 4, 5, 6],\n",
              "       [9, 7, 6, 8, 9]])"
            ]
          },
          "metadata": {
            "tags": []
          },
          "execution_count": 8
        }
      ]
    },
    {
      "cell_type": "code",
      "metadata": {
        "colab": {
          "base_uri": "https://localhost:8080/"
        },
        "id": "S95VmGcFIisB",
        "outputId": "3aab85be-5e5f-4468-ebbe-da3835983892"
      },
      "source": [
        "arr[2][3]"
      ],
      "execution_count": null,
      "outputs": [
        {
          "output_type": "execute_result",
          "data": {
            "text/plain": [
              "8"
            ]
          },
          "metadata": {
            "tags": []
          },
          "execution_count": 10
        }
      ]
    },
    {
      "cell_type": "code",
      "metadata": {
        "colab": {
          "base_uri": "https://localhost:8080/"
        },
        "id": "vGs_3Nb1I-Cy",
        "outputId": "f8c1be32-8d43-42ed-e95f-210ae209bf22"
      },
      "source": [
        "arr[1:,:2]"
      ],
      "execution_count": null,
      "outputs": [
        {
          "output_type": "execute_result",
          "data": {
            "text/plain": [
              "array([[2, 3],\n",
              "       [9, 7]])"
            ]
          },
          "metadata": {
            "tags": []
          },
          "execution_count": 11
        }
      ]
    },
    {
      "cell_type": "code",
      "metadata": {
        "colab": {
          "base_uri": "https://localhost:8080/"
        },
        "id": "jS7vq_vPKfJH",
        "outputId": "75988d41-0c36-4736-8d79-3c0a0a3111bc"
      },
      "source": [
        "arr[:,3:]"
      ],
      "execution_count": null,
      "outputs": [
        {
          "output_type": "execute_result",
          "data": {
            "text/plain": [
              "array([[4, 5],\n",
              "       [5, 6],\n",
              "       [8, 9]])"
            ]
          },
          "metadata": {
            "tags": []
          },
          "execution_count": 13
        }
      ]
    },
    {
      "cell_type": "code",
      "metadata": {
        "colab": {
          "base_uri": "https://localhost:8080/"
        },
        "id": "Ll0vejyBLloq",
        "outputId": "49498116-0498-437a-c0c0-0c381d598c6f"
      },
      "source": [
        "ar1=np.arange(1,10)\n",
        "ar1"
      ],
      "execution_count": null,
      "outputs": [
        {
          "output_type": "execute_result",
          "data": {
            "text/plain": [
              "array([1, 2, 3, 4, 5, 6, 7, 8, 9])"
            ]
          },
          "metadata": {
            "tags": []
          },
          "execution_count": 17
        }
      ]
    },
    {
      "cell_type": "code",
      "metadata": {
        "colab": {
          "base_uri": "https://localhost:8080/"
        },
        "id": "Hje6i6mLI92H",
        "outputId": "15fdd216-6452-4d1e-c0d7-cbe78a71f7ea"
      },
      "source": [
        "ar1[5:]=100\n",
        "ar1"
      ],
      "execution_count": null,
      "outputs": [
        {
          "output_type": "execute_result",
          "data": {
            "text/plain": [
              "array([  1,   2,   3,   4,   5, 100, 100, 100, 100])"
            ]
          },
          "metadata": {
            "tags": []
          },
          "execution_count": 18
        }
      ]
    },
    {
      "cell_type": "markdown",
      "metadata": {
        "id": "QV1AU8qcI3TL"
      },
      "source": [
        "#Some conditions very useful for in exploartry data analysis\n"
      ]
    },
    {
      "cell_type": "code",
      "metadata": {
        "colab": {
          "base_uri": "https://localhost:8080/"
        },
        "id": "7zdBoAGePLHV",
        "outputId": "8a2400bc-f17b-4f7d-8b62-0893c9f1c81b"
      },
      "source": [
        "ar2=np.arange(1,10)\n",
        "val=2\n",
        "print(ar2<4)\n",
        "ar2[ar2<3]"
      ],
      "execution_count": null,
      "outputs": [
        {
          "output_type": "stream",
          "text": [
            "[ True  True  True False False False False False False]\n"
          ],
          "name": "stdout"
        },
        {
          "output_type": "execute_result",
          "data": {
            "text/plain": [
              "array([1, 2])"
            ]
          },
          "metadata": {
            "tags": []
          },
          "execution_count": 29
        }
      ]
    },
    {
      "cell_type": "code",
      "metadata": {
        "colab": {
          "base_uri": "https://localhost:8080/"
        },
        "id": "6qbAAFbFLGpo",
        "outputId": "d70efcc4-ee87-4670-ac34-6270d3aa3326"
      },
      "source": [
        "ar3=np.ones(3,dtype=float)\n",
        "ar3"
      ],
      "execution_count": null,
      "outputs": [
        {
          "output_type": "execute_result",
          "data": {
            "text/plain": [
              "array([1., 1., 1.])"
            ]
          },
          "metadata": {
            "tags": []
          },
          "execution_count": 31
        }
      ]
    },
    {
      "cell_type": "code",
      "metadata": {
        "colab": {
          "base_uri": "https://localhost:8080/"
        },
        "id": "fB2tVJJHLmGa",
        "outputId": "3e0fc3f9-7b25-4c62-b3f0-9cd98d3613a1"
      },
      "source": [
        "ar4=np.zeros(4,dtype=int)\n",
        "ar4"
      ],
      "execution_count": null,
      "outputs": [
        {
          "output_type": "execute_result",
          "data": {
            "text/plain": [
              "array([0, 0, 0, 0])"
            ]
          },
          "metadata": {
            "tags": []
          },
          "execution_count": 30
        }
      ]
    },
    {
      "cell_type": "markdown",
      "metadata": {
        "id": "yNdrR5owLwX9"
      },
      "source": [
        "#Random distribution"
      ]
    },
    {
      "cell_type": "code",
      "metadata": {
        "colab": {
          "base_uri": "https://localhost:8080/"
        },
        "id": "tQk_ug7ML1Kh",
        "outputId": "d6e344b9-3e5a-4b14-ecb7-9406b914bb3e"
      },
      "source": [
        "ar5=np.random.rand(3,3)\n",
        "ar5"
      ],
      "execution_count": null,
      "outputs": [
        {
          "output_type": "execute_result",
          "data": {
            "text/plain": [
              "array([[0.90081681, 0.7165872 , 0.77519026],\n",
              "       [0.70367055, 0.13703025, 0.56365774],\n",
              "       [0.81647726, 0.18737591, 0.01101135]])"
            ]
          },
          "metadata": {
            "tags": []
          },
          "execution_count": 32
        }
      ]
    },
    {
      "cell_type": "markdown",
      "metadata": {
        "id": "iGrdqnFYMAQU"
      },
      "source": [
        "#Normal distribution"
      ]
    },
    {
      "cell_type": "code",
      "metadata": {
        "colab": {
          "base_uri": "https://localhost:8080/"
        },
        "id": "jUST6gc9MESm",
        "outputId": "41d1076c-43d5-46d5-fb19-886cc3a10699"
      },
      "source": [
        "ar6=np.random.randn(3,3)\n",
        "ar6"
      ],
      "execution_count": null,
      "outputs": [
        {
          "output_type": "execute_result",
          "data": {
            "text/plain": [
              "array([[ 1.68246752,  0.54149741, -0.20564981],\n",
              "       [ 0.52767848,  0.76139676,  0.79949381],\n",
              "       [ 2.12279793, -1.33303306, -0.48497583]])"
            ]
          },
          "metadata": {
            "tags": []
          },
          "execution_count": 33
        }
      ]
    },
    {
      "cell_type": "code",
      "metadata": {
        "colab": {
          "base_uri": "https://localhost:8080/"
        },
        "id": "CB6y9qr8Mhem",
        "outputId": "34ad1591-4192-4048-c300-758814e37209"
      },
      "source": [
        "arr"
      ],
      "execution_count": null,
      "outputs": [
        {
          "output_type": "execute_result",
          "data": {
            "text/plain": [
              "array([[[1, 2, 3, 4],\n",
              "        [5, 6, 7, 8]]])"
            ]
          },
          "metadata": {
            "tags": []
          },
          "execution_count": 144
        }
      ]
    },
    {
      "cell_type": "code",
      "metadata": {
        "colab": {
          "base_uri": "https://localhost:8080/",
          "height": 336
        },
        "id": "MXnPa-xTMPE_",
        "outputId": "259dcf87-e389-4591-abcb-0ed8144cbd27"
      },
      "source": [
        "import seaborn as sns\n",
        "import pandas as pd\n",
        "sns.distplot(pd.DataFrame(arr.reshape(4,2)))"
      ],
      "execution_count": null,
      "outputs": [
        {
          "output_type": "stream",
          "text": [
            "/usr/local/lib/python3.6/dist-packages/seaborn/distributions.py:2551: FutureWarning: `distplot` is a deprecated function and will be removed in a future version. Please adapt your code to use either `displot` (a figure-level function with similar flexibility) or `histplot` (an axes-level function for histograms).\n",
            "  warnings.warn(msg, FutureWarning)\n"
          ],
          "name": "stderr"
        },
        {
          "output_type": "execute_result",
          "data": {
            "text/plain": [
              "<matplotlib.axes._subplots.AxesSubplot at 0x7fb33bc1c240>"
            ]
          },
          "metadata": {
            "tags": []
          },
          "execution_count": 146
        },
        {
          "output_type": "display_data",
          "data": {
            "image/png": "[encoded data removed]",
            "text/plain": [
              "<Figure size 432x288 with 1 Axes>"
            ]
          },
          "metadata": {
            "tags": [],
            "needs_background": "light"
          }
        }
      ]
    }
  ]
}